{
  "nbformat": 4,
  "nbformat_minor": 0,
  "metadata": {
    "colab": {
      "provenance": [],
      "authorship_tag": "ABX9TyP+XnPZiArSVqn9qPuKXIad",
      "include_colab_link": true
    },
    "kernelspec": {
      "name": "python3",
      "display_name": "Python 3"
    },
    "language_info": {
      "name": "python"
    }
  },
  "cells": [
    {
      "cell_type": "markdown",
      "metadata": {
        "id": "view-in-github",
        "colab_type": "text"
      },
      "source": [
        "<a href=\"https://colab.research.google.com/github/Jayaprakash1710/Business-Analytics---IITM/blob/main/BA_GA_3.ipynb\" target=\"_parent\"><img src=\"https://colab.research.google.com/assets/colab-badge.svg\" alt=\"Open In Colab\"/></a>"
      ]
    },
    {
      "cell_type": "code",
      "execution_count": 1,
      "metadata": {
        "id": "yNFRMVaE7XVr"
      },
      "outputs": [],
      "source": [
        "import numpy as np\n",
        "import pandas as pd"
      ]
    },
    {
      "cell_type": "code",
      "source": [
        "X_train=pd.read_excel('/content/X_train.xlsx')\n",
        "X_test=pd.read_excel('/content/X_test.xlsx')\n",
        "Y_train=pd.read_excel('/content/Y_train.xlsx')\n",
        "Y_test=pd.read_excel('/content/Y_test.xlsx')"
      ],
      "metadata": {
        "id": "O5aYHcDS8LYI"
      },
      "execution_count": 4,
      "outputs": []
    },
    {
      "cell_type": "markdown",
      "source": [
        "Q1-\n",
        "How many observations are available in the training data? Hint: Enter your answer as an integer."
      ],
      "metadata": {
        "id": "hnr7bLVa-bLA"
      }
    },
    {
      "cell_type": "code",
      "source": [
        "print(X_train.shape)\n",
        "print(Y_train.shape)"
      ],
      "metadata": {
        "id": "WD3jbAHW-adw",
        "outputId": "40892d50-71f5-4bee-8f13-b2d6bf4fff38",
        "colab": {
          "base_uri": "https://localhost:8080/"
        }
      },
      "execution_count": 5,
      "outputs": [
        {
          "output_type": "stream",
          "name": "stdout",
          "text": [
            "(212, 14)\n",
            "(212, 2)\n"
          ]
        }
      ]
    },
    {
      "cell_type": "markdown",
      "source": [
        "Q2-\n",
        "How many observations are available in the test data?\n",
        "Hint: Enter your answer as an integer.\n"
      ],
      "metadata": {
        "id": "4L2EZZuZ-qjo"
      }
    },
    {
      "cell_type": "code",
      "source": [
        "print(X_test.shape)\n",
        "print(Y_test.shape)"
      ],
      "metadata": {
        "id": "FWZ_QNpz9zso",
        "outputId": "a5f43d30-5dae-4aff-c179-d22c297c9c60",
        "colab": {
          "base_uri": "https://localhost:8080/"
        }
      },
      "execution_count": 6,
      "outputs": [
        {
          "output_type": "stream",
          "name": "stdout",
          "text": [
            "(91, 14)\n",
            "(91, 2)\n"
          ]
        }
      ]
    },
    {
      "cell_type": "markdown",
      "source": [
        "Q3-\n",
        "What is the proportion of patients who have heart disease in the training dataset?\n",
        "Hint: Mention your answer in terms of percentage. If your answer is 70.51%, enter 70.51"
      ],
      "metadata": {
        "id": "UM-yXWBp-5hd"
      }
    },
    {
      "cell_type": "code",
      "source": [
        "Y_train.head()"
      ],
      "metadata": {
        "id": "bVUQwT6T-03Z",
        "outputId": "353b8ea9-874e-46a2-f1f5-df386382d454",
        "colab": {
          "base_uri": "https://localhost:8080/",
          "height": 206
        }
      },
      "execution_count": 8,
      "outputs": [
        {
          "output_type": "execute_result",
          "data": {
            "text/plain": [
              "   Unnamed: 0  target\n",
              "0          49       1\n",
              "1         171       0\n",
              "2         223       0\n",
              "3          58       1\n",
              "4         154       1"
            ],
            "text/html": [
              "\n",
              "  <div id=\"df-11c9770e-f5a9-4220-a611-f8748d0edcfe\" class=\"colab-df-container\">\n",
              "    <div>\n",
              "<style scoped>\n",
              "    .dataframe tbody tr th:only-of-type {\n",
              "        vertical-align: middle;\n",
              "    }\n",
              "\n",
              "    .dataframe tbody tr th {\n",
              "        vertical-align: top;\n",
              "    }\n",
              "\n",
              "    .dataframe thead th {\n",
              "        text-align: right;\n",
              "    }\n",
              "</style>\n",
              "<table border=\"1\" class=\"dataframe\">\n",
              "  <thead>\n",
              "    <tr style=\"text-align: right;\">\n",
              "      <th></th>\n",
              "      <th>Unnamed: 0</th>\n",
              "      <th>target</th>\n",
              "    </tr>\n",
              "  </thead>\n",
              "  <tbody>\n",
              "    <tr>\n",
              "      <th>0</th>\n",
              "      <td>49</td>\n",
              "      <td>1</td>\n",
              "    </tr>\n",
              "    <tr>\n",
              "      <th>1</th>\n",
              "      <td>171</td>\n",
              "      <td>0</td>\n",
              "    </tr>\n",
              "    <tr>\n",
              "      <th>2</th>\n",
              "      <td>223</td>\n",
              "      <td>0</td>\n",
              "    </tr>\n",
              "    <tr>\n",
              "      <th>3</th>\n",
              "      <td>58</td>\n",
              "      <td>1</td>\n",
              "    </tr>\n",
              "    <tr>\n",
              "      <th>4</th>\n",
              "      <td>154</td>\n",
              "      <td>1</td>\n",
              "    </tr>\n",
              "  </tbody>\n",
              "</table>\n",
              "</div>\n",
              "    <div class=\"colab-df-buttons\">\n",
              "\n",
              "  <div class=\"colab-df-container\">\n",
              "    <button class=\"colab-df-convert\" onclick=\"convertToInteractive('df-11c9770e-f5a9-4220-a611-f8748d0edcfe')\"\n",
              "            title=\"Convert this dataframe to an interactive table.\"\n",
              "            style=\"display:none;\">\n",
              "\n",
              "  <svg xmlns=\"http://www.w3.org/2000/svg\" height=\"24px\" viewBox=\"0 -960 960 960\">\n",
              "    <path d=\"M120-120v-720h720v720H120Zm60-500h600v-160H180v160Zm220 220h160v-160H400v160Zm0 220h160v-160H400v160ZM180-400h160v-160H180v160Zm440 0h160v-160H620v160ZM180-180h160v-160H180v160Zm440 0h160v-160H620v160Z\"/>\n",
              "  </svg>\n",
              "    </button>\n",
              "\n",
              "  <style>\n",
              "    .colab-df-container {\n",
              "      display:flex;\n",
              "      gap: 12px;\n",
              "    }\n",
              "\n",
              "    .colab-df-convert {\n",
              "      background-color: #E8F0FE;\n",
              "      border: none;\n",
              "      border-radius: 50%;\n",
              "      cursor: pointer;\n",
              "      display: none;\n",
              "      fill: #1967D2;\n",
              "      height: 32px;\n",
              "      padding: 0 0 0 0;\n",
              "      width: 32px;\n",
              "    }\n",
              "\n",
              "    .colab-df-convert:hover {\n",
              "      background-color: #E2EBFA;\n",
              "      box-shadow: 0px 1px 2px rgba(60, 64, 67, 0.3), 0px 1px 3px 1px rgba(60, 64, 67, 0.15);\n",
              "      fill: #174EA6;\n",
              "    }\n",
              "\n",
              "    .colab-df-buttons div {\n",
              "      margin-bottom: 4px;\n",
              "    }\n",
              "\n",
              "    [theme=dark] .colab-df-convert {\n",
              "      background-color: #3B4455;\n",
              "      fill: #D2E3FC;\n",
              "    }\n",
              "\n",
              "    [theme=dark] .colab-df-convert:hover {\n",
              "      background-color: #434B5C;\n",
              "      box-shadow: 0px 1px 3px 1px rgba(0, 0, 0, 0.15);\n",
              "      filter: drop-shadow(0px 1px 2px rgba(0, 0, 0, 0.3));\n",
              "      fill: #FFFFFF;\n",
              "    }\n",
              "  </style>\n",
              "\n",
              "    <script>\n",
              "      const buttonEl =\n",
              "        document.querySelector('#df-11c9770e-f5a9-4220-a611-f8748d0edcfe button.colab-df-convert');\n",
              "      buttonEl.style.display =\n",
              "        google.colab.kernel.accessAllowed ? 'block' : 'none';\n",
              "\n",
              "      async function convertToInteractive(key) {\n",
              "        const element = document.querySelector('#df-11c9770e-f5a9-4220-a611-f8748d0edcfe');\n",
              "        const dataTable =\n",
              "          await google.colab.kernel.invokeFunction('convertToInteractive',\n",
              "                                                    [key], {});\n",
              "        if (!dataTable) return;\n",
              "\n",
              "        const docLinkHtml = 'Like what you see? Visit the ' +\n",
              "          '<a target=\"_blank\" href=https://colab.research.google.com/notebooks/data_table.ipynb>data table notebook</a>'\n",
              "          + ' to learn more about interactive tables.';\n",
              "        element.innerHTML = '';\n",
              "        dataTable['output_type'] = 'display_data';\n",
              "        await google.colab.output.renderOutput(dataTable, element);\n",
              "        const docLink = document.createElement('div');\n",
              "        docLink.innerHTML = docLinkHtml;\n",
              "        element.appendChild(docLink);\n",
              "      }\n",
              "    </script>\n",
              "  </div>\n",
              "\n",
              "\n",
              "<div id=\"df-6b7fb608-f2e7-4441-a54e-e1d361d62c73\">\n",
              "  <button class=\"colab-df-quickchart\" onclick=\"quickchart('df-6b7fb608-f2e7-4441-a54e-e1d361d62c73')\"\n",
              "            title=\"Suggest charts\"\n",
              "            style=\"display:none;\">\n",
              "\n",
              "<svg xmlns=\"http://www.w3.org/2000/svg\" height=\"24px\"viewBox=\"0 0 24 24\"\n",
              "     width=\"24px\">\n",
              "    <g>\n",
              "        <path d=\"M19 3H5c-1.1 0-2 .9-2 2v14c0 1.1.9 2 2 2h14c1.1 0 2-.9 2-2V5c0-1.1-.9-2-2-2zM9 17H7v-7h2v7zm4 0h-2V7h2v10zm4 0h-2v-4h2v4z\"/>\n",
              "    </g>\n",
              "</svg>\n",
              "  </button>\n",
              "\n",
              "<style>\n",
              "  .colab-df-quickchart {\n",
              "      --bg-color: #E8F0FE;\n",
              "      --fill-color: #1967D2;\n",
              "      --hover-bg-color: #E2EBFA;\n",
              "      --hover-fill-color: #174EA6;\n",
              "      --disabled-fill-color: #AAA;\n",
              "      --disabled-bg-color: #DDD;\n",
              "  }\n",
              "\n",
              "  [theme=dark] .colab-df-quickchart {\n",
              "      --bg-color: #3B4455;\n",
              "      --fill-color: #D2E3FC;\n",
              "      --hover-bg-color: #434B5C;\n",
              "      --hover-fill-color: #FFFFFF;\n",
              "      --disabled-bg-color: #3B4455;\n",
              "      --disabled-fill-color: #666;\n",
              "  }\n",
              "\n",
              "  .colab-df-quickchart {\n",
              "    background-color: var(--bg-color);\n",
              "    border: none;\n",
              "    border-radius: 50%;\n",
              "    cursor: pointer;\n",
              "    display: none;\n",
              "    fill: var(--fill-color);\n",
              "    height: 32px;\n",
              "    padding: 0;\n",
              "    width: 32px;\n",
              "  }\n",
              "\n",
              "  .colab-df-quickchart:hover {\n",
              "    background-color: var(--hover-bg-color);\n",
              "    box-shadow: 0 1px 2px rgba(60, 64, 67, 0.3), 0 1px 3px 1px rgba(60, 64, 67, 0.15);\n",
              "    fill: var(--button-hover-fill-color);\n",
              "  }\n",
              "\n",
              "  .colab-df-quickchart-complete:disabled,\n",
              "  .colab-df-quickchart-complete:disabled:hover {\n",
              "    background-color: var(--disabled-bg-color);\n",
              "    fill: var(--disabled-fill-color);\n",
              "    box-shadow: none;\n",
              "  }\n",
              "\n",
              "  .colab-df-spinner {\n",
              "    border: 2px solid var(--fill-color);\n",
              "    border-color: transparent;\n",
              "    border-bottom-color: var(--fill-color);\n",
              "    animation:\n",
              "      spin 1s steps(1) infinite;\n",
              "  }\n",
              "\n",
              "  @keyframes spin {\n",
              "    0% {\n",
              "      border-color: transparent;\n",
              "      border-bottom-color: var(--fill-color);\n",
              "      border-left-color: var(--fill-color);\n",
              "    }\n",
              "    20% {\n",
              "      border-color: transparent;\n",
              "      border-left-color: var(--fill-color);\n",
              "      border-top-color: var(--fill-color);\n",
              "    }\n",
              "    30% {\n",
              "      border-color: transparent;\n",
              "      border-left-color: var(--fill-color);\n",
              "      border-top-color: var(--fill-color);\n",
              "      border-right-color: var(--fill-color);\n",
              "    }\n",
              "    40% {\n",
              "      border-color: transparent;\n",
              "      border-right-color: var(--fill-color);\n",
              "      border-top-color: var(--fill-color);\n",
              "    }\n",
              "    60% {\n",
              "      border-color: transparent;\n",
              "      border-right-color: var(--fill-color);\n",
              "    }\n",
              "    80% {\n",
              "      border-color: transparent;\n",
              "      border-right-color: var(--fill-color);\n",
              "      border-bottom-color: var(--fill-color);\n",
              "    }\n",
              "    90% {\n",
              "      border-color: transparent;\n",
              "      border-bottom-color: var(--fill-color);\n",
              "    }\n",
              "  }\n",
              "</style>\n",
              "\n",
              "  <script>\n",
              "    async function quickchart(key) {\n",
              "      const quickchartButtonEl =\n",
              "        document.querySelector('#' + key + ' button');\n",
              "      quickchartButtonEl.disabled = true;  // To prevent multiple clicks.\n",
              "      quickchartButtonEl.classList.add('colab-df-spinner');\n",
              "      try {\n",
              "        const charts = await google.colab.kernel.invokeFunction(\n",
              "            'suggestCharts', [key], {});\n",
              "      } catch (error) {\n",
              "        console.error('Error during call to suggestCharts:', error);\n",
              "      }\n",
              "      quickchartButtonEl.classList.remove('colab-df-spinner');\n",
              "      quickchartButtonEl.classList.add('colab-df-quickchart-complete');\n",
              "    }\n",
              "    (() => {\n",
              "      let quickchartButtonEl =\n",
              "        document.querySelector('#df-6b7fb608-f2e7-4441-a54e-e1d361d62c73 button');\n",
              "      quickchartButtonEl.style.display =\n",
              "        google.colab.kernel.accessAllowed ? 'block' : 'none';\n",
              "    })();\n",
              "  </script>\n",
              "</div>\n",
              "\n",
              "    </div>\n",
              "  </div>\n"
            ],
            "application/vnd.google.colaboratory.intrinsic+json": {
              "type": "dataframe",
              "variable_name": "Y_train",
              "summary": "{\n  \"name\": \"Y_train\",\n  \"rows\": 212,\n  \"fields\": [\n    {\n      \"column\": \"Unnamed: 0\",\n      \"properties\": {\n        \"dtype\": \"number\",\n        \"std\": 87,\n        \"min\": 0,\n        \"max\": 302,\n        \"num_unique_values\": 212,\n        \"samples\": [\n          190,\n          118,\n          251\n        ],\n        \"semantic_type\": \"\",\n        \"description\": \"\"\n      }\n    },\n    {\n      \"column\": \"target\",\n      \"properties\": {\n        \"dtype\": \"number\",\n        \"std\": 0,\n        \"min\": 0,\n        \"max\": 1,\n        \"num_unique_values\": 2,\n        \"samples\": [\n          0,\n          1\n        ],\n        \"semantic_type\": \"\",\n        \"description\": \"\"\n      }\n    }\n  ]\n}"
            }
          },
          "metadata": {},
          "execution_count": 8
        }
      ]
    },
    {
      "cell_type": "code",
      "source": [
        "round((Y_train.loc[Y_train['target']==1].shape[0]/len(Y_train))*100,2)"
      ],
      "metadata": {
        "id": "hn0T4FFR--i4",
        "outputId": "e18abf4a-1411-40f8-b3a5-4c0207db4654",
        "colab": {
          "base_uri": "https://localhost:8080/"
        }
      },
      "execution_count": 13,
      "outputs": [
        {
          "output_type": "execute_result",
          "data": {
            "text/plain": [
              "58.49"
            ]
          },
          "metadata": {},
          "execution_count": 13
        }
      ]
    },
    {
      "cell_type": "markdown",
      "source": [
        "Q4- What is the proportion of patients who have heart disease in the test dataset?\n",
        "Hint:Mention your answer in terms of percentage. If your answer is 70.51%, enter 70.51"
      ],
      "metadata": {
        "id": "AF6flVx6_uDg"
      }
    },
    {
      "cell_type": "code",
      "source": [
        "Y_test.head()"
      ],
      "metadata": {
        "id": "7D8B6n9g_TvJ",
        "outputId": "9da9e4ee-30a1-4862-9b98-726a24d2f526",
        "colab": {
          "base_uri": "https://localhost:8080/",
          "height": 206
        }
      },
      "execution_count": 14,
      "outputs": [
        {
          "output_type": "execute_result",
          "data": {
            "text/plain": [
              "   Unnamed: 0  target\n",
              "0         246       0\n",
              "1         183       0\n",
              "2         229       0\n",
              "3         126       1\n",
              "4         184       0"
            ],
            "text/html": [
              "\n",
              "  <div id=\"df-2df3d6d4-efed-4304-a825-824ac4479ea2\" class=\"colab-df-container\">\n",
              "    <div>\n",
              "<style scoped>\n",
              "    .dataframe tbody tr th:only-of-type {\n",
              "        vertical-align: middle;\n",
              "    }\n",
              "\n",
              "    .dataframe tbody tr th {\n",
              "        vertical-align: top;\n",
              "    }\n",
              "\n",
              "    .dataframe thead th {\n",
              "        text-align: right;\n",
              "    }\n",
              "</style>\n",
              "<table border=\"1\" class=\"dataframe\">\n",
              "  <thead>\n",
              "    <tr style=\"text-align: right;\">\n",
              "      <th></th>\n",
              "      <th>Unnamed: 0</th>\n",
              "      <th>target</th>\n",
              "    </tr>\n",
              "  </thead>\n",
              "  <tbody>\n",
              "    <tr>\n",
              "      <th>0</th>\n",
              "      <td>246</td>\n",
              "      <td>0</td>\n",
              "    </tr>\n",
              "    <tr>\n",
              "      <th>1</th>\n",
              "      <td>183</td>\n",
              "      <td>0</td>\n",
              "    </tr>\n",
              "    <tr>\n",
              "      <th>2</th>\n",
              "      <td>229</td>\n",
              "      <td>0</td>\n",
              "    </tr>\n",
              "    <tr>\n",
              "      <th>3</th>\n",
              "      <td>126</td>\n",
              "      <td>1</td>\n",
              "    </tr>\n",
              "    <tr>\n",
              "      <th>4</th>\n",
              "      <td>184</td>\n",
              "      <td>0</td>\n",
              "    </tr>\n",
              "  </tbody>\n",
              "</table>\n",
              "</div>\n",
              "    <div class=\"colab-df-buttons\">\n",
              "\n",
              "  <div class=\"colab-df-container\">\n",
              "    <button class=\"colab-df-convert\" onclick=\"convertToInteractive('df-2df3d6d4-efed-4304-a825-824ac4479ea2')\"\n",
              "            title=\"Convert this dataframe to an interactive table.\"\n",
              "            style=\"display:none;\">\n",
              "\n",
              "  <svg xmlns=\"http://www.w3.org/2000/svg\" height=\"24px\" viewBox=\"0 -960 960 960\">\n",
              "    <path d=\"M120-120v-720h720v720H120Zm60-500h600v-160H180v160Zm220 220h160v-160H400v160Zm0 220h160v-160H400v160ZM180-400h160v-160H180v160Zm440 0h160v-160H620v160ZM180-180h160v-160H180v160Zm440 0h160v-160H620v160Z\"/>\n",
              "  </svg>\n",
              "    </button>\n",
              "\n",
              "  <style>\n",
              "    .colab-df-container {\n",
              "      display:flex;\n",
              "      gap: 12px;\n",
              "    }\n",
              "\n",
              "    .colab-df-convert {\n",
              "      background-color: #E8F0FE;\n",
              "      border: none;\n",
              "      border-radius: 50%;\n",
              "      cursor: pointer;\n",
              "      display: none;\n",
              "      fill: #1967D2;\n",
              "      height: 32px;\n",
              "      padding: 0 0 0 0;\n",
              "      width: 32px;\n",
              "    }\n",
              "\n",
              "    .colab-df-convert:hover {\n",
              "      background-color: #E2EBFA;\n",
              "      box-shadow: 0px 1px 2px rgba(60, 64, 67, 0.3), 0px 1px 3px 1px rgba(60, 64, 67, 0.15);\n",
              "      fill: #174EA6;\n",
              "    }\n",
              "\n",
              "    .colab-df-buttons div {\n",
              "      margin-bottom: 4px;\n",
              "    }\n",
              "\n",
              "    [theme=dark] .colab-df-convert {\n",
              "      background-color: #3B4455;\n",
              "      fill: #D2E3FC;\n",
              "    }\n",
              "\n",
              "    [theme=dark] .colab-df-convert:hover {\n",
              "      background-color: #434B5C;\n",
              "      box-shadow: 0px 1px 3px 1px rgba(0, 0, 0, 0.15);\n",
              "      filter: drop-shadow(0px 1px 2px rgba(0, 0, 0, 0.3));\n",
              "      fill: #FFFFFF;\n",
              "    }\n",
              "  </style>\n",
              "\n",
              "    <script>\n",
              "      const buttonEl =\n",
              "        document.querySelector('#df-2df3d6d4-efed-4304-a825-824ac4479ea2 button.colab-df-convert');\n",
              "      buttonEl.style.display =\n",
              "        google.colab.kernel.accessAllowed ? 'block' : 'none';\n",
              "\n",
              "      async function convertToInteractive(key) {\n",
              "        const element = document.querySelector('#df-2df3d6d4-efed-4304-a825-824ac4479ea2');\n",
              "        const dataTable =\n",
              "          await google.colab.kernel.invokeFunction('convertToInteractive',\n",
              "                                                    [key], {});\n",
              "        if (!dataTable) return;\n",
              "\n",
              "        const docLinkHtml = 'Like what you see? Visit the ' +\n",
              "          '<a target=\"_blank\" href=https://colab.research.google.com/notebooks/data_table.ipynb>data table notebook</a>'\n",
              "          + ' to learn more about interactive tables.';\n",
              "        element.innerHTML = '';\n",
              "        dataTable['output_type'] = 'display_data';\n",
              "        await google.colab.output.renderOutput(dataTable, element);\n",
              "        const docLink = document.createElement('div');\n",
              "        docLink.innerHTML = docLinkHtml;\n",
              "        element.appendChild(docLink);\n",
              "      }\n",
              "    </script>\n",
              "  </div>\n",
              "\n",
              "\n",
              "<div id=\"df-9a94bdac-d813-4030-8b4f-312edf3f2ef1\">\n",
              "  <button class=\"colab-df-quickchart\" onclick=\"quickchart('df-9a94bdac-d813-4030-8b4f-312edf3f2ef1')\"\n",
              "            title=\"Suggest charts\"\n",
              "            style=\"display:none;\">\n",
              "\n",
              "<svg xmlns=\"http://www.w3.org/2000/svg\" height=\"24px\"viewBox=\"0 0 24 24\"\n",
              "     width=\"24px\">\n",
              "    <g>\n",
              "        <path d=\"M19 3H5c-1.1 0-2 .9-2 2v14c0 1.1.9 2 2 2h14c1.1 0 2-.9 2-2V5c0-1.1-.9-2-2-2zM9 17H7v-7h2v7zm4 0h-2V7h2v10zm4 0h-2v-4h2v4z\"/>\n",
              "    </g>\n",
              "</svg>\n",
              "  </button>\n",
              "\n",
              "<style>\n",
              "  .colab-df-quickchart {\n",
              "      --bg-color: #E8F0FE;\n",
              "      --fill-color: #1967D2;\n",
              "      --hover-bg-color: #E2EBFA;\n",
              "      --hover-fill-color: #174EA6;\n",
              "      --disabled-fill-color: #AAA;\n",
              "      --disabled-bg-color: #DDD;\n",
              "  }\n",
              "\n",
              "  [theme=dark] .colab-df-quickchart {\n",
              "      --bg-color: #3B4455;\n",
              "      --fill-color: #D2E3FC;\n",
              "      --hover-bg-color: #434B5C;\n",
              "      --hover-fill-color: #FFFFFF;\n",
              "      --disabled-bg-color: #3B4455;\n",
              "      --disabled-fill-color: #666;\n",
              "  }\n",
              "\n",
              "  .colab-df-quickchart {\n",
              "    background-color: var(--bg-color);\n",
              "    border: none;\n",
              "    border-radius: 50%;\n",
              "    cursor: pointer;\n",
              "    display: none;\n",
              "    fill: var(--fill-color);\n",
              "    height: 32px;\n",
              "    padding: 0;\n",
              "    width: 32px;\n",
              "  }\n",
              "\n",
              "  .colab-df-quickchart:hover {\n",
              "    background-color: var(--hover-bg-color);\n",
              "    box-shadow: 0 1px 2px rgba(60, 64, 67, 0.3), 0 1px 3px 1px rgba(60, 64, 67, 0.15);\n",
              "    fill: var(--button-hover-fill-color);\n",
              "  }\n",
              "\n",
              "  .colab-df-quickchart-complete:disabled,\n",
              "  .colab-df-quickchart-complete:disabled:hover {\n",
              "    background-color: var(--disabled-bg-color);\n",
              "    fill: var(--disabled-fill-color);\n",
              "    box-shadow: none;\n",
              "  }\n",
              "\n",
              "  .colab-df-spinner {\n",
              "    border: 2px solid var(--fill-color);\n",
              "    border-color: transparent;\n",
              "    border-bottom-color: var(--fill-color);\n",
              "    animation:\n",
              "      spin 1s steps(1) infinite;\n",
              "  }\n",
              "\n",
              "  @keyframes spin {\n",
              "    0% {\n",
              "      border-color: transparent;\n",
              "      border-bottom-color: var(--fill-color);\n",
              "      border-left-color: var(--fill-color);\n",
              "    }\n",
              "    20% {\n",
              "      border-color: transparent;\n",
              "      border-left-color: var(--fill-color);\n",
              "      border-top-color: var(--fill-color);\n",
              "    }\n",
              "    30% {\n",
              "      border-color: transparent;\n",
              "      border-left-color: var(--fill-color);\n",
              "      border-top-color: var(--fill-color);\n",
              "      border-right-color: var(--fill-color);\n",
              "    }\n",
              "    40% {\n",
              "      border-color: transparent;\n",
              "      border-right-color: var(--fill-color);\n",
              "      border-top-color: var(--fill-color);\n",
              "    }\n",
              "    60% {\n",
              "      border-color: transparent;\n",
              "      border-right-color: var(--fill-color);\n",
              "    }\n",
              "    80% {\n",
              "      border-color: transparent;\n",
              "      border-right-color: var(--fill-color);\n",
              "      border-bottom-color: var(--fill-color);\n",
              "    }\n",
              "    90% {\n",
              "      border-color: transparent;\n",
              "      border-bottom-color: var(--fill-color);\n",
              "    }\n",
              "  }\n",
              "</style>\n",
              "\n",
              "  <script>\n",
              "    async function quickchart(key) {\n",
              "      const quickchartButtonEl =\n",
              "        document.querySelector('#' + key + ' button');\n",
              "      quickchartButtonEl.disabled = true;  // To prevent multiple clicks.\n",
              "      quickchartButtonEl.classList.add('colab-df-spinner');\n",
              "      try {\n",
              "        const charts = await google.colab.kernel.invokeFunction(\n",
              "            'suggestCharts', [key], {});\n",
              "      } catch (error) {\n",
              "        console.error('Error during call to suggestCharts:', error);\n",
              "      }\n",
              "      quickchartButtonEl.classList.remove('colab-df-spinner');\n",
              "      quickchartButtonEl.classList.add('colab-df-quickchart-complete');\n",
              "    }\n",
              "    (() => {\n",
              "      let quickchartButtonEl =\n",
              "        document.querySelector('#df-9a94bdac-d813-4030-8b4f-312edf3f2ef1 button');\n",
              "      quickchartButtonEl.style.display =\n",
              "        google.colab.kernel.accessAllowed ? 'block' : 'none';\n",
              "    })();\n",
              "  </script>\n",
              "</div>\n",
              "\n",
              "    </div>\n",
              "  </div>\n"
            ],
            "application/vnd.google.colaboratory.intrinsic+json": {
              "type": "dataframe",
              "variable_name": "Y_test",
              "summary": "{\n  \"name\": \"Y_test\",\n  \"rows\": 91,\n  \"fields\": [\n    {\n      \"column\": \"Unnamed: 0\",\n      \"properties\": {\n        \"dtype\": \"number\",\n        \"std\": 88,\n        \"min\": 1,\n        \"max\": 301,\n        \"num_unique_values\": 91,\n        \"samples\": [\n          289,\n          287,\n          10\n        ],\n        \"semantic_type\": \"\",\n        \"description\": \"\"\n      }\n    },\n    {\n      \"column\": \"target\",\n      \"properties\": {\n        \"dtype\": \"number\",\n        \"std\": 0,\n        \"min\": 0,\n        \"max\": 1,\n        \"num_unique_values\": 2,\n        \"samples\": [\n          1,\n          0\n        ],\n        \"semantic_type\": \"\",\n        \"description\": \"\"\n      }\n    }\n  ]\n}"
            }
          },
          "metadata": {},
          "execution_count": 14
        }
      ]
    },
    {
      "cell_type": "code",
      "source": [
        "round(Y_test.loc[Y_test['target']==1].shape[0]/len(Y_test)*100,2)"
      ],
      "metadata": {
        "id": "sKxppRbLAOao",
        "outputId": "95252a53-2657-433b-b877-478c59e7fbc1",
        "colab": {
          "base_uri": "https://localhost:8080/"
        }
      },
      "execution_count": 19,
      "outputs": [
        {
          "output_type": "execute_result",
          "data": {
            "text/plain": [
              "45.05"
            ]
          },
          "metadata": {},
          "execution_count": 19
        }
      ]
    },
    {
      "cell_type": "markdown",
      "source": [
        "Q5- What is the proportion of patients who do not have heart disease in the test dataset?\n",
        "Hint: Mention your answer in terms of percentage. If your answer is 70.51%, enter 70.51"
      ],
      "metadata": {
        "id": "Lg-1DtbKArVg"
      }
    },
    {
      "cell_type": "code",
      "source": [
        "round(Y_test.loc[Y_test['target']==0].shape[0]/len(Y_test)*100,2)"
      ],
      "metadata": {
        "id": "v8YZzAAIAWjY",
        "outputId": "072246a4-f3b0-4359-b813-e47f8e8787aa",
        "colab": {
          "base_uri": "https://localhost:8080/"
        }
      },
      "execution_count": 20,
      "outputs": [
        {
          "output_type": "execute_result",
          "data": {
            "text/plain": [
              "54.95"
            ]
          },
          "metadata": {},
          "execution_count": 20
        }
      ]
    },
    {
      "cell_type": "markdown",
      "source": [
        "Q6-\n",
        "What is the proportion of patients who do not have heart disease in the training dataset?\n",
        "Hint: Mention your answer in terms of percentage. If your answer is 70.51%, enter 70.51"
      ],
      "metadata": {
        "id": "fVx_HLJnBX9y"
      }
    },
    {
      "cell_type": "code",
      "source": [
        "round(Y_train.loc[Y_train['target']==0].shape[0]/len(Y_train)*100,2)"
      ],
      "metadata": {
        "id": "LAcSMuR5AxxY",
        "outputId": "2e6423eb-35b0-4f77-a925-a65e9376348c",
        "colab": {
          "base_uri": "https://localhost:8080/"
        }
      },
      "execution_count": 22,
      "outputs": [
        {
          "output_type": "execute_result",
          "data": {
            "text/plain": [
              "41.51"
            ]
          },
          "metadata": {},
          "execution_count": 22
        }
      ]
    },
    {
      "cell_type": "markdown",
      "source": [
        "Q7- Fit the model on the train data (use LogisticRegression from sklearn.linear_model ) and make predictions on the train data, and answer questions (7 to 9).\n",
        "What is the training accuracy? If your answer is 70.51%, enter 70.5.\n",
        "\n",
        "Hint: Compare the predictions of Y_train and Y_pred_train. If your answer is 70.51%,\n",
        "enter 70.51"
      ],
      "metadata": {
        "id": "pyiGqZXoFBMQ"
      }
    },
    {
      "cell_type": "code",
      "source": [
        "#import pandas as pd\n",
        "from sklearn.linear_model import LogisticRegression\n",
        "from sklearn.metrics import accuracy_score\n",
        "\n",
        "# Load datasets (ignoring the 'Unnamed: 0' column)\n",
        "X_train = pd.read_excel(\"X_train.xlsx\").iloc[:, 1:]\n",
        "Y_train = pd.read_excel(\"Y_train.xlsx\").iloc[:, 1:]\n",
        "\n",
        "# Train the Logistic Regression model\n",
        "model = LogisticRegression(random_state=17, max_iter=1000)\n",
        "model.fit(X_train, Y_train.values.ravel())\n",
        "\n",
        "# Make predictions on training data\n",
        "y_pred_train = model.predict(X_train)\n",
        "\n",
        "# Compute training accuracy\n",
        "train_accuracy = accuracy_score(Y_train, y_pred_train) * 100\n",
        "train_accuracy = round(train_accuracy, 2)\n",
        "\n",
        "print(\"Training Accuracy:\", train_accuracy)\n"
      ],
      "metadata": {
        "id": "3tH-lcYXHQlJ",
        "outputId": "504fc9ab-85f8-40c6-f64c-6521fd6ad535",
        "colab": {
          "base_uri": "https://localhost:8080/"
        }
      },
      "execution_count": 29,
      "outputs": [
        {
          "output_type": "stream",
          "name": "stdout",
          "text": [
            "Training Accuracy: 85.38\n"
          ]
        },
        {
          "output_type": "stream",
          "name": "stderr",
          "text": [
            "/usr/local/lib/python3.11/dist-packages/sklearn/linear_model/_logistic.py:465: ConvergenceWarning: lbfgs failed to converge (status=1):\n",
            "STOP: TOTAL NO. of ITERATIONS REACHED LIMIT.\n",
            "\n",
            "Increase the number of iterations (max_iter) or scale the data as shown in:\n",
            "    https://scikit-learn.org/stable/modules/preprocessing.html\n",
            "Please also refer to the documentation for alternative solver options:\n",
            "    https://scikit-learn.org/stable/modules/linear_model.html#logistic-regression\n",
            "  n_iter_i = _check_optimize_result(\n"
          ]
        }
      ]
    },
    {
      "cell_type": "markdown",
      "source": [
        "Q8- What is the training data precision of your model if the aim is to find patients who will not have heart disease?\n",
        "\n",
        "Hint: Compare the predictions of Y_train and Y_pred_train. Mention your answer in terms of percentage. If your answer is 70.51%, enter 70.51\n"
      ],
      "metadata": {
        "id": "ltBjrXFaKGZZ"
      }
    },
    {
      "cell_type": "code",
      "source": [
        "#import pandas as pd\n",
        "from sklearn.linear_model import LogisticRegression\n",
        "from sklearn.metrics import classification_report\n",
        "\n",
        "# Load datasets (ignoring the 'Unnamed: 0' column)\n",
        "X_train = pd.read_excel(\"X_train.xlsx\").iloc[:, 1:]\n",
        "Y_train = pd.read_excel(\"Y_train.xlsx\").iloc[:, 1:]\n",
        "\n",
        "# Train the Logistic Regression model\n",
        "model = LogisticRegression(random_state=17, max_iter=1000)\n",
        "model.fit(X_train, Y_train.values.ravel())\n",
        "\n",
        "# Make predictions on training data\n",
        "y_pred_train = model.predict(X_train)\n",
        "\n",
        "# Generate classification report\n",
        "report = classification_report(Y_train, y_pred_train, output_dict=True)\n",
        "\n",
        "# Extract precision for Class 0 (patients without heart disease)\n",
        "precision_class_0 = report[\"0\"][\"precision\"] * 100\n",
        "precision_class_0 = round(precision_class_0, 2)\n",
        "\n",
        "print(\"Precision for patients without heart disease:\", precision_class_0)\n"
      ],
      "metadata": {
        "id": "OsjFdbryKGGJ",
        "outputId": "493d70e1-565e-452f-de04-8ef806cd9401",
        "colab": {
          "base_uri": "https://localhost:8080/"
        }
      },
      "execution_count": 30,
      "outputs": [
        {
          "output_type": "stream",
          "name": "stdout",
          "text": [
            "Precision for patients without heart disease: 86.08\n"
          ]
        },
        {
          "output_type": "stream",
          "name": "stderr",
          "text": [
            "/usr/local/lib/python3.11/dist-packages/sklearn/linear_model/_logistic.py:465: ConvergenceWarning: lbfgs failed to converge (status=1):\n",
            "STOP: TOTAL NO. of ITERATIONS REACHED LIMIT.\n",
            "\n",
            "Increase the number of iterations (max_iter) or scale the data as shown in:\n",
            "    https://scikit-learn.org/stable/modules/preprocessing.html\n",
            "Please also refer to the documentation for alternative solver options:\n",
            "    https://scikit-learn.org/stable/modules/linear_model.html#logistic-regression\n",
            "  n_iter_i = _check_optimize_result(\n"
          ]
        }
      ]
    },
    {
      "cell_type": "markdown",
      "source": [
        "Q9- What is the training data recall of your model if the aim is to find patients who will have heart disease? Hint: enter your answer in terms of percentage. If your answer is 70.51%, enter 70.51"
      ],
      "metadata": {
        "id": "IdAJNKPOKnTt"
      }
    },
    {
      "cell_type": "code",
      "source": [
        "#import pandas as pd\n",
        "from sklearn.linear_model import LogisticRegression\n",
        "from sklearn.metrics import classification_report\n",
        "\n",
        "# Load datasets (ignoring the 'Unnamed: 0' column)\n",
        "X_train = pd.read_excel(\"X_train.xlsx\").iloc[:, 1:]\n",
        "Y_train = pd.read_excel(\"Y_train.xlsx\").iloc[:, 1:]\n",
        "\n",
        "# Train the Logistic Regression model\n",
        "model = LogisticRegression(random_state=17, max_iter=1000)\n",
        "model.fit(X_train, Y_train.values.ravel())\n",
        "\n",
        "# Make predictions on training data\n",
        "y_pred_train = model.predict(X_train)\n",
        "\n",
        "# Generate classification report\n",
        "report = classification_report(Y_train, y_pred_train, output_dict=True)\n",
        "\n",
        "# Extract recall for Class 1 (patients with heart disease)\n",
        "recall_class_1 = report[\"1\"][\"recall\"] * 100\n",
        "recall_class_1 = round(recall_class_1, 2)\n",
        "\n",
        "print(\"Recall for patients with heart disease:\", recall_class_1)\n"
      ],
      "metadata": {
        "id": "mKDD19JmKiAJ",
        "outputId": "d210fa56-2392-47c5-c5ba-9bda4bd9967a",
        "colab": {
          "base_uri": "https://localhost:8080/"
        }
      },
      "execution_count": 31,
      "outputs": [
        {
          "output_type": "stream",
          "name": "stdout",
          "text": [
            "Recall for patients with heart disease: 91.13\n"
          ]
        },
        {
          "output_type": "stream",
          "name": "stderr",
          "text": [
            "/usr/local/lib/python3.11/dist-packages/sklearn/linear_model/_logistic.py:465: ConvergenceWarning: lbfgs failed to converge (status=1):\n",
            "STOP: TOTAL NO. of ITERATIONS REACHED LIMIT.\n",
            "\n",
            "Increase the number of iterations (max_iter) or scale the data as shown in:\n",
            "    https://scikit-learn.org/stable/modules/preprocessing.html\n",
            "Please also refer to the documentation for alternative solver options:\n",
            "    https://scikit-learn.org/stable/modules/linear_model.html#logistic-regression\n",
            "  n_iter_i = _check_optimize_result(\n"
          ]
        }
      ]
    },
    {
      "cell_type": "markdown",
      "source": [
        "Q-10 After training your model on the train data, make predictions on the test data, and answer\n",
        "questions (10) to (14). From the confusion matrix, identify the number of predictions that\n",
        "have a type 1 error (false positive).\n",
        "Hint: Use confusion_matrix(Y_test, Y_pred_test).ravel() and enter your answer as an integer.\n"
      ],
      "metadata": {
        "id": "B0ldQx9YK7ai"
      }
    },
    {
      "cell_type": "code",
      "source": [
        "#import pandas as pd\n",
        "from sklearn.metrics import confusion_matrix\n",
        "from sklearn.linear_model import LogisticRegression\n",
        "\n",
        "# Load test datasets (ignoring the 'Unnamed: 0' column)\n",
        "X_test = pd.read_excel(\"X_test.xlsx\").iloc[:, 1:]\n",
        "Y_test = pd.read_excel(\"Y_test.xlsx\").iloc[:, 1:]\n",
        "\n",
        "# Predict on test data\n",
        "y_pred_test = model.predict(X_test)\n",
        "\n",
        "# Compute confusion matrix\n",
        "tn, fp, fn, tp = confusion_matrix(Y_test, y_pred_test).ravel()\n",
        "\n",
        "# Print False Positives (Type 1 Error)\n",
        "print(\"False Positives (Type 1 Error):\", fp)\n"
      ],
      "metadata": {
        "id": "zjrKyR-4K0Oq",
        "outputId": "7a5f45ce-3545-408a-e2c8-092e4b2ca008",
        "colab": {
          "base_uri": "https://localhost:8080/"
        }
      },
      "execution_count": 32,
      "outputs": [
        {
          "output_type": "stream",
          "name": "stdout",
          "text": [
            "False Positives (Type 1 Error): 17\n"
          ]
        }
      ]
    },
    {
      "cell_type": "markdown",
      "source": [
        "Q11-\n",
        "In the test data confusion matrix, identify the number of predictions that have a type 2\n",
        "error (false negative).\n",
        "Hint: Use confusion_matrix(Y_test, Y_pred_test).ravel() and enter your answer as an integer.\n"
      ],
      "metadata": {
        "id": "sm4hRnq8LNOF"
      }
    },
    {
      "cell_type": "code",
      "source": [
        "#import pandas as pd\n",
        "from sklearn.metrics import confusion_matrix\n",
        "\n",
        "# Load test datasets (ignoring the 'Unnamed: 0' column)\n",
        "X_test = pd.read_excel(\"X_test.xlsx\").iloc[:, 1:]\n",
        "Y_test = pd.read_excel(\"Y_test.xlsx\").iloc[:, 1:]\n",
        "\n",
        "# Predict on test data\n",
        "y_pred_test = model.predict(X_test)\n",
        "\n",
        "# Compute confusion matrix\n",
        "tn, fp, fn, tp = confusion_matrix(Y_test, y_pred_test).ravel()\n",
        "\n",
        "# Print False Negatives (Type 2 Error)\n",
        "print(\"False Negatives (Type 2 Error):\", fn)"
      ],
      "metadata": {
        "id": "q8KOwg_ALE8p",
        "outputId": "0d132e26-4e88-423f-baf9-edbf0d92e77b",
        "colab": {
          "base_uri": "https://localhost:8080/"
        }
      },
      "execution_count": 33,
      "outputs": [
        {
          "output_type": "stream",
          "name": "stdout",
          "text": [
            "False Negatives (Type 2 Error): 4\n"
          ]
        }
      ]
    },
    {
      "cell_type": "markdown",
      "source": [
        "Q12- What is the accuracy of the model in the test data? Mention your answer in terms of\n",
        "percentage and round off the answers to two decimals. If your answer is 70.51%, enter\n",
        "70.51"
      ],
      "metadata": {
        "id": "2HU7LvWBLc7x"
      }
    },
    {
      "cell_type": "code",
      "source": [
        "#import pandas as pd\n",
        "from sklearn.metrics import accuracy_score\n",
        "\n",
        "# Load test datasets (ignoring the 'Unnamed: 0' column)\n",
        "X_test = pd.read_excel(\"X_test.xlsx\").iloc[:, 1:]\n",
        "Y_test = pd.read_excel(\"Y_test.xlsx\").iloc[:, 1:]\n",
        "\n",
        "# Predict on test data\n",
        "y_pred_test = model.predict(X_test)\n",
        "\n",
        "# Compute test accuracy\n",
        "test_accuracy = accuracy_score(Y_test, y_pred_test) * 100\n",
        "test_accuracy = round(test_accuracy, 2)\n",
        "\n",
        "print(\"Test Accuracy:\", test_accuracy)\n"
      ],
      "metadata": {
        "id": "wz-kSIc7LXt6",
        "outputId": "6c0477af-ee10-491f-ad3f-8e8d28f64968",
        "colab": {
          "base_uri": "https://localhost:8080/"
        }
      },
      "execution_count": 34,
      "outputs": [
        {
          "output_type": "stream",
          "name": "stdout",
          "text": [
            "Test Accuracy: 76.92\n"
          ]
        }
      ]
    },
    {
      "cell_type": "markdown",
      "source": [
        "Q-13 What is the precision of your model in the test data if the aim is to find patients who will\n",
        "have heart disease? Hint: Mention your answer in terms of percentage and round off the\n",
        "answers to two decimals. If your answer is 70.51%, enter 70.51"
      ],
      "metadata": {
        "id": "qHCvUaRGLsuj"
      }
    },
    {
      "cell_type": "code",
      "source": [
        "import pandas as pd\n",
        "from sklearn.metrics import classification_report\n",
        "\n",
        "# Load test datasets (ignoring the 'Unnamed: 0' column)\n",
        "X_test = pd.read_excel(\"X_test.xlsx\").iloc[:, 1:]\n",
        "Y_test = pd.read_excel(\"Y_test.xlsx\").iloc[:, 1:]\n",
        "\n",
        "# Predict on test data\n",
        "y_pred_test = model.predict(X_test)\n",
        "\n",
        "# Generate classification report\n",
        "report = classification_report(Y_test, y_pred_test, output_dict=True)\n",
        "\n",
        "# Extract precision for Class 1 (patients with heart disease)\n",
        "precision_class_1 = report[\"1\"][\"precision\"] * 100\n",
        "precision_class_1 = round(precision_class_1, 2)\n",
        "\n",
        "print(\"Precision for patients with heart disease:\", precision_class_1)\n"
      ],
      "metadata": {
        "id": "mHjm91vqLkHa",
        "outputId": "c87b65df-3134-43e8-8302-839757f8c782",
        "colab": {
          "base_uri": "https://localhost:8080/"
        }
      },
      "execution_count": 35,
      "outputs": [
        {
          "output_type": "stream",
          "name": "stdout",
          "text": [
            "Precision for patients with heart disease: 68.52\n"
          ]
        }
      ]
    },
    {
      "cell_type": "markdown",
      "source": [
        "Q-14\n",
        "What is the recall of your model in the test data if the aim is to find patients who will have heart disease? Mention your answer in terms of percentage and round off the answers to two decimals. If your answer is 70.51%, enter 70.51"
      ],
      "metadata": {
        "id": "RTndVUcFL4Mj"
      }
    },
    {
      "cell_type": "code",
      "source": [
        "import pandas as pd\n",
        "from sklearn.metrics import classification_report\n",
        "\n",
        "# Load test datasets (ignoring the 'Unnamed: 0' column)\n",
        "X_test = pd.read_excel(\"X_test.xlsx\").iloc[:, 1:]\n",
        "Y_test = pd.read_excel(\"Y_test.xlsx\").iloc[:, 1:]\n",
        "\n",
        "# Predict on test data\n",
        "y_pred_test = model.predict(X_test)\n",
        "\n",
        "# Generate classification report\n",
        "report = classification_report(Y_test, y_pred_test, output_dict=True)\n",
        "\n",
        "# Extract recall for Class 1 (patients with heart disease)\n",
        "recall_class_1 = report[\"1\"][\"recall\"] * 100\n",
        "recall_class_1 = round(recall_class_1, 2)\n",
        "\n",
        "print(\"Recall for patients with heart disease:\", recall_class_1)"
      ],
      "metadata": {
        "id": "1GCXhTL3Lyk6",
        "outputId": "96eaf7ba-f31e-4936-dee1-1bb46295e054",
        "colab": {
          "base_uri": "https://localhost:8080/"
        }
      },
      "execution_count": 36,
      "outputs": [
        {
          "output_type": "stream",
          "name": "stdout",
          "text": [
            "Recall for patients with heart disease: 90.24\n"
          ]
        }
      ]
    },
    {
      "cell_type": "markdown",
      "source": [
        "Q-15\n",
        "\n",
        "Has the precision for customers having a heart disease increased or decreased when the model is tested on the testing data set as compared to the results obtained from the training data set?\n",
        "\n",
        "Training Precision > Test Precision\n",
        "\n",
        "Training Precision < Test Precision\n",
        "\n",
        "Training Precision = Test Precision\n",
        "\n",
        "None of the above"
      ],
      "metadata": {
        "id": "O_xMrnYpMD1o"
      }
    },
    {
      "cell_type": "code",
      "source": [
        "#import pandas as pd\n",
        "from sklearn.metrics import classification_report\n",
        "\n",
        "# Load train and test datasets (ignoring 'Unnamed: 0' column)\n",
        "X_train = pd.read_excel(\"X_train.xlsx\").iloc[:, 1:]\n",
        "Y_train = pd.read_excel(\"Y_train.xlsx\").iloc[:, 1:]\n",
        "\n",
        "X_test = pd.read_excel(\"X_test.xlsx\").iloc[:, 1:]\n",
        "Y_test = pd.read_excel(\"Y_test.xlsx\").iloc[:, 1:]\n",
        "\n",
        "# Train the Logistic Regression model\n",
        "from sklearn.linear_model import LogisticRegression\n",
        "\n",
        "model = LogisticRegression(random_state=17, max_iter=1000)\n",
        "model.fit(X_train, Y_train.values.ravel())\n",
        "\n",
        "# Predict on training and test data\n",
        "y_pred_train = model.predict(X_train)\n",
        "y_pred_test = model.predict(X_test)\n",
        "\n",
        "# Generate classification reports\n",
        "report_train = classification_report(Y_train, y_pred_train, output_dict=True)\n",
        "report_test = classification_report(Y_test, y_pred_test, output_dict=True)\n",
        "\n",
        "# Extract precision for Class 1 (patients with heart disease)\n",
        "precision_train = round(report_train[\"1\"][\"precision\"] * 100, 2)\n",
        "precision_test = round(report_test[\"1\"][\"precision\"] * 100, 2)\n",
        "\n",
        "print(\"Training Precision:\", precision_train)\n",
        "print(\"Test Precision:\", precision_test)\n",
        "\n",
        "# Compare results\n",
        "if precision_train > precision_test:\n",
        "    print(\"Answer: Training Precision > Test Precision\")\n",
        "elif precision_train < precision_test:\n",
        "    print(\"Answer: Training Precision < Test Precision\")\n",
        "elif precision_train == precision_test:\n",
        "    print(\"Answer: Training Precision = Test Precision\")\n",
        "else:\n",
        "    print(\"Answer: None of the above\")\n"
      ],
      "metadata": {
        "id": "nLYymtHQL-K6",
        "outputId": "e2447746-7608-49d4-be5c-3571c37525ac",
        "colab": {
          "base_uri": "https://localhost:8080/"
        }
      },
      "execution_count": 37,
      "outputs": [
        {
          "output_type": "stream",
          "name": "stdout",
          "text": [
            "Training Precision: 84.96\n",
            "Test Precision: 68.52\n",
            "Answer: Training Precision > Test Precision\n"
          ]
        },
        {
          "output_type": "stream",
          "name": "stderr",
          "text": [
            "/usr/local/lib/python3.11/dist-packages/sklearn/linear_model/_logistic.py:465: ConvergenceWarning: lbfgs failed to converge (status=1):\n",
            "STOP: TOTAL NO. of ITERATIONS REACHED LIMIT.\n",
            "\n",
            "Increase the number of iterations (max_iter) or scale the data as shown in:\n",
            "    https://scikit-learn.org/stable/modules/preprocessing.html\n",
            "Please also refer to the documentation for alternative solver options:\n",
            "    https://scikit-learn.org/stable/modules/linear_model.html#logistic-regression\n",
            "  n_iter_i = _check_optimize_result(\n"
          ]
        }
      ]
    },
    {
      "cell_type": "code",
      "source": [],
      "metadata": {
        "id": "cBjjNYjPMJ16"
      },
      "execution_count": null,
      "outputs": []
    }
  ]
}